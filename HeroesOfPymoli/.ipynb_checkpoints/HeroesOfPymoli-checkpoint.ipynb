{
 "cells": [
  {
   "cell_type": "code",
   "execution_count": 2,
   "metadata": {},
   "outputs": [
    {
     "data": {
      "text/html": [
       "<div>\n",
       "<style scoped>\n",
       "    .dataframe tbody tr th:only-of-type {\n",
       "        vertical-align: middle;\n",
       "    }\n",
       "\n",
       "    .dataframe tbody tr th {\n",
       "        vertical-align: top;\n",
       "    }\n",
       "\n",
       "    .dataframe thead th {\n",
       "        text-align: right;\n",
       "    }\n",
       "</style>\n",
       "<table border=\"1\" class=\"dataframe\">\n",
       "  <thead>\n",
       "    <tr style=\"text-align: right;\">\n",
       "      <th></th>\n",
       "      <th>Purchase ID</th>\n",
       "      <th>SN</th>\n",
       "      <th>Age</th>\n",
       "      <th>Gender</th>\n",
       "      <th>Item ID</th>\n",
       "      <th>Item Name</th>\n",
       "      <th>Price</th>\n",
       "    </tr>\n",
       "  </thead>\n",
       "  <tbody>\n",
       "    <tr>\n",
       "      <th>0</th>\n",
       "      <td>0</td>\n",
       "      <td>Lisim78</td>\n",
       "      <td>20</td>\n",
       "      <td>Male</td>\n",
       "      <td>108</td>\n",
       "      <td>Extraction, Quickblade Of Trembling Hands</td>\n",
       "      <td>3.53</td>\n",
       "    </tr>\n",
       "    <tr>\n",
       "      <th>1</th>\n",
       "      <td>1</td>\n",
       "      <td>Lisovynya38</td>\n",
       "      <td>40</td>\n",
       "      <td>Male</td>\n",
       "      <td>143</td>\n",
       "      <td>Frenzied Scimitar</td>\n",
       "      <td>1.56</td>\n",
       "    </tr>\n",
       "    <tr>\n",
       "      <th>2</th>\n",
       "      <td>2</td>\n",
       "      <td>Ithergue48</td>\n",
       "      <td>24</td>\n",
       "      <td>Male</td>\n",
       "      <td>92</td>\n",
       "      <td>Final Critic</td>\n",
       "      <td>4.88</td>\n",
       "    </tr>\n",
       "    <tr>\n",
       "      <th>3</th>\n",
       "      <td>3</td>\n",
       "      <td>Chamassasya86</td>\n",
       "      <td>24</td>\n",
       "      <td>Male</td>\n",
       "      <td>100</td>\n",
       "      <td>Blindscythe</td>\n",
       "      <td>3.27</td>\n",
       "    </tr>\n",
       "    <tr>\n",
       "      <th>4</th>\n",
       "      <td>4</td>\n",
       "      <td>Iskosia90</td>\n",
       "      <td>23</td>\n",
       "      <td>Male</td>\n",
       "      <td>131</td>\n",
       "      <td>Fury</td>\n",
       "      <td>1.44</td>\n",
       "    </tr>\n",
       "  </tbody>\n",
       "</table>\n",
       "</div>"
      ],
      "text/plain": [
       "   Purchase ID             SN  Age Gender  Item ID  \\\n",
       "0            0        Lisim78   20   Male      108   \n",
       "1            1    Lisovynya38   40   Male      143   \n",
       "2            2     Ithergue48   24   Male       92   \n",
       "3            3  Chamassasya86   24   Male      100   \n",
       "4            4      Iskosia90   23   Male      131   \n",
       "\n",
       "                                   Item Name  Price  \n",
       "0  Extraction, Quickblade Of Trembling Hands   3.53  \n",
       "1                          Frenzied Scimitar   1.56  \n",
       "2                               Final Critic   4.88  \n",
       "3                                Blindscythe   3.27  \n",
       "4                                       Fury   1.44  "
      ]
     },
     "execution_count": 2,
     "metadata": {},
     "output_type": "execute_result"
    }
   ],
   "source": [
    "# Import Dependencies and Setup\n",
    "import pandas as pd\n",
    "import numpy as np\n",
    "\n",
    "# File to Load\n",
    "file = 'Resources/purchase_data.csv'\n",
    "\n",
    "# Read Purchasing File and store into Pandas data frame\n",
    "purchase_data = pd.read_csv(file)\n",
    "purchase_data.head()"
   ]
  },
  {
   "cell_type": "code",
   "execution_count": 3,
   "metadata": {},
   "outputs": [
    {
     "name": "stdout",
     "output_type": "stream",
     "text": [
      "There are 576 total players.\n"
     ]
    }
   ],
   "source": [
    "# Player Count\n",
    "player_list = purchase_data.SN.unique()\n",
    "total_num_players = len(player_list)\n",
    "print(f\"There are {total_num_players} total players.\")"
   ]
  },
  {
   "cell_type": "code",
   "execution_count": 4,
   "metadata": {},
   "outputs": [
    {
     "data": {
      "text/html": [
       "<style  type=\"text/css\" >\n",
       "</style><table id=\"T_82a166a8_ddde_11eb_b455_acde48001122\" ><thead>    <tr>        <th class=\"col_heading level0 col0\" > </th>        <th class=\"col_heading level0 col1\" >Number of Unique Items</th>        <th class=\"col_heading level0 col2\" >Average Price ($)</th>        <th class=\"col_heading level0 col3\" >Number of Purchases</th>        <th class=\"col_heading level0 col4\" >Total Revenue ($)</th>    </tr></thead><tbody>\n",
       "                <tr>\n",
       "                                <td id=\"T_82a166a8_ddde_11eb_b455_acde48001122row0_col0\" class=\"data row0 col0\" >Value</td>\n",
       "                        <td id=\"T_82a166a8_ddde_11eb_b455_acde48001122row0_col1\" class=\"data row0 col1\" >179</td>\n",
       "                        <td id=\"T_82a166a8_ddde_11eb_b455_acde48001122row0_col2\" class=\"data row0 col2\" >$3.05</td>\n",
       "                        <td id=\"T_82a166a8_ddde_11eb_b455_acde48001122row0_col3\" class=\"data row0 col3\" >780</td>\n",
       "                        <td id=\"T_82a166a8_ddde_11eb_b455_acde48001122row0_col4\" class=\"data row0 col4\" >$2,379.77</td>\n",
       "            </tr>\n",
       "    </tbody></table>"
      ],
      "text/plain": [
       "<pandas.io.formats.style.Styler at 0x7f95b821e890>"
      ]
     },
     "execution_count": 4,
     "metadata": {},
     "output_type": "execute_result"
    }
   ],
   "source": [
    "# Purchasing Analysis\n",
    "num_unique_items = purchase_data[\"Item ID\"].value_counts().count()\n",
    "genders = purchase_data.Gender.unique()\n",
    "avg_price = round(purchase_data[\"Price\"].mean(),2)\n",
    "num_purchases = purchase_data[\"SN\"].count()\n",
    "total_rev = purchase_data[\"Price\"].sum()\n",
    "data_summary = pd.DataFrame([{\" \":\"Value\",\"Number of Unique Items\":num_unique_items,\n",
    "                \"Average Price ($)\":avg_price,\n",
    "                \"Number of Purchases\":num_purchases,\n",
    "                \"Total Revenue ($)\":total_rev}])\n",
    "data_summary.style.format({\"Average Price ($)\":'${0:,.2f}',\"Total Revenue ($)\":'${0:,.2f}'}).hide_index()"
   ]
  },
  {
   "cell_type": "code",
   "execution_count": 5,
   "metadata": {},
   "outputs": [],
   "source": [
    "# Gender Demographics\n",
    "no_dups = purchase_data.drop_duplicates(subset=[\"SN\"])\n",
    "SN_Gender = no_dups[[\"SN\",\"Gender\"]]\n",
    "SN_Gender = SN_Gender.groupby(\"Gender\").count()\n",
    "percent_gender = [100*SN_Gender.iloc[:,0][0]/total_num_players,\n",
    "                  100*SN_Gender.iloc[:,0][1]/total_num_players,\n",
    "                  100*SN_Gender.iloc[:,0][2]/total_num_players]\n",
    "SN_Gender.insert(1,\"Percentage of Players\",percent_gender)\n",
    "SN_Gender.rename(columns={\"SN\":\"Total Count\"},inplace=True)"
   ]
  },
  {
   "cell_type": "code",
   "execution_count": 6,
   "metadata": {},
   "outputs": [
    {
     "data": {
      "text/html": [
       "<style  type=\"text/css\" >\n",
       "</style><table id=\"T_831646c6_ddde_11eb_b455_acde48001122\" ><thead>    <tr>        <th class=\"blank level0\" ></th>        <th class=\"col_heading level0 col0\" >Total Count</th>        <th class=\"col_heading level0 col1\" >Percentage of Players</th>    </tr>    <tr>        <th class=\"index_name level0\" >Gender</th>        <th class=\"blank\" ></th>        <th class=\"blank\" ></th>    </tr></thead><tbody>\n",
       "                <tr>\n",
       "                        <th id=\"T_831646c6_ddde_11eb_b455_acde48001122level0_row0\" class=\"row_heading level0 row0\" >Female</th>\n",
       "                        <td id=\"T_831646c6_ddde_11eb_b455_acde48001122row0_col0\" class=\"data row0 col0\" >81</td>\n",
       "                        <td id=\"T_831646c6_ddde_11eb_b455_acde48001122row0_col1\" class=\"data row0 col1\" >14.06%</td>\n",
       "            </tr>\n",
       "            <tr>\n",
       "                        <th id=\"T_831646c6_ddde_11eb_b455_acde48001122level0_row1\" class=\"row_heading level0 row1\" >Male</th>\n",
       "                        <td id=\"T_831646c6_ddde_11eb_b455_acde48001122row1_col0\" class=\"data row1 col0\" >484</td>\n",
       "                        <td id=\"T_831646c6_ddde_11eb_b455_acde48001122row1_col1\" class=\"data row1 col1\" >84.03%</td>\n",
       "            </tr>\n",
       "            <tr>\n",
       "                        <th id=\"T_831646c6_ddde_11eb_b455_acde48001122level0_row2\" class=\"row_heading level0 row2\" >Other / Non-Disclosed</th>\n",
       "                        <td id=\"T_831646c6_ddde_11eb_b455_acde48001122row2_col0\" class=\"data row2 col0\" >11</td>\n",
       "                        <td id=\"T_831646c6_ddde_11eb_b455_acde48001122row2_col1\" class=\"data row2 col1\" >1.91%</td>\n",
       "            </tr>\n",
       "    </tbody></table>"
      ],
      "text/plain": [
       "<pandas.io.formats.style.Styler at 0x7f9600d31890>"
      ]
     },
     "execution_count": 6,
     "metadata": {},
     "output_type": "execute_result"
    }
   ],
   "source": [
    "SN_Gender.style.format({\"Percentage of Players\":\"{0:,.2f}%\"})"
   ]
  },
  {
   "cell_type": "code",
   "execution_count": 7,
   "metadata": {},
   "outputs": [],
   "source": [
    "# Purchasing Analysis (Gender)\n",
    "gender_df = purchase_data.groupby(\"Gender\")\n",
    "purchase_count = gender_df.count()[\"Purchase ID\"]\n",
    "average_price = gender_df.mean()[\"Price\"]\n",
    "total_purchase_val = purchase_count*average_price\n",
    "avg_tot_purchase_per_person = total_purchase_val/SN_Gender[\"Total Count\"]"
   ]
  },
  {
   "cell_type": "code",
   "execution_count": 8,
   "metadata": {},
   "outputs": [
    {
     "data": {
      "text/html": [
       "<style  type=\"text/css\" >\n",
       "</style><table id=\"T_84168806_ddde_11eb_b455_acde48001122\" ><thead>    <tr>        <th class=\"col_heading level0 col0\" >Gender</th>        <th class=\"col_heading level0 col1\" >Purchase Count</th>        <th class=\"col_heading level0 col2\" >Average Purchase Price</th>        <th class=\"col_heading level0 col3\" >Total Purchase Value</th>        <th class=\"col_heading level0 col4\" >Avg Total Purchase per Person</th>    </tr></thead><tbody>\n",
       "                <tr>\n",
       "                                <td id=\"T_84168806_ddde_11eb_b455_acde48001122row0_col0\" class=\"data row0 col0\" >Male</td>\n",
       "                        <td id=\"T_84168806_ddde_11eb_b455_acde48001122row0_col1\" class=\"data row0 col1\" >113</td>\n",
       "                        <td id=\"T_84168806_ddde_11eb_b455_acde48001122row0_col2\" class=\"data row0 col2\" >$3.20</td>\n",
       "                        <td id=\"T_84168806_ddde_11eb_b455_acde48001122row0_col3\" class=\"data row0 col3\" >$361.94</td>\n",
       "                        <td id=\"T_84168806_ddde_11eb_b455_acde48001122row0_col4\" class=\"data row0 col4\" >$4.47</td>\n",
       "            </tr>\n",
       "            <tr>\n",
       "                                <td id=\"T_84168806_ddde_11eb_b455_acde48001122row1_col0\" class=\"data row1 col0\" >Other / Non-Disclosed</td>\n",
       "                        <td id=\"T_84168806_ddde_11eb_b455_acde48001122row1_col1\" class=\"data row1 col1\" >652</td>\n",
       "                        <td id=\"T_84168806_ddde_11eb_b455_acde48001122row1_col2\" class=\"data row1 col2\" >$3.02</td>\n",
       "                        <td id=\"T_84168806_ddde_11eb_b455_acde48001122row1_col3\" class=\"data row1 col3\" >$1,967.64</td>\n",
       "                        <td id=\"T_84168806_ddde_11eb_b455_acde48001122row1_col4\" class=\"data row1 col4\" >$4.07</td>\n",
       "            </tr>\n",
       "            <tr>\n",
       "                                <td id=\"T_84168806_ddde_11eb_b455_acde48001122row2_col0\" class=\"data row2 col0\" >Female</td>\n",
       "                        <td id=\"T_84168806_ddde_11eb_b455_acde48001122row2_col1\" class=\"data row2 col1\" >15</td>\n",
       "                        <td id=\"T_84168806_ddde_11eb_b455_acde48001122row2_col2\" class=\"data row2 col2\" >$3.35</td>\n",
       "                        <td id=\"T_84168806_ddde_11eb_b455_acde48001122row2_col3\" class=\"data row2 col3\" >$50.19</td>\n",
       "                        <td id=\"T_84168806_ddde_11eb_b455_acde48001122row2_col4\" class=\"data row2 col4\" >$4.56</td>\n",
       "            </tr>\n",
       "    </tbody></table>"
      ],
      "text/plain": [
       "<pandas.io.formats.style.Styler at 0x7f95b8cdc9d0>"
      ]
     },
     "execution_count": 8,
     "metadata": {},
     "output_type": "execute_result"
    }
   ],
   "source": [
    "list(genders).sort()\n",
    "gender_summary = pd.DataFrame({\"Gender\":genders,\n",
    "                               \"Purchase Count\":list(purchase_count),\n",
    "                               \"Average Purchase Price\":list(average_price),\n",
    "                               \"Total Purchase Value\":list(total_purchase_val),\n",
    "                               \"Avg Total Purchase per Person\":list(avg_tot_purchase_per_person)\n",
    "                              })\n",
    "gender_summary = gender_summary.style.format({\"Average Purchase Price\":'${0:,.2f}',\n",
    "                            \"Total Purchase Value\":'${0:,.2f}',\n",
    "                            \"Avg Total Purchase per Person\":'${0:,.2f}'}).hide_index()\n",
    "gender_summary"
   ]
  },
  {
   "cell_type": "code",
   "execution_count": 129,
   "metadata": {},
   "outputs": [
    {
     "data": {
      "text/html": [
       "<style  type=\"text/css\" >\n",
       "</style><table id=\"T_107572a8_dde4_11eb_b455_acde48001122\" ><thead>    <tr>        <th class=\"col_heading level0 col0\" ></th>        <th class=\"col_heading level0 col1\" >Total Count</th>        <th class=\"col_heading level0 col2\" >Percentage of Players</th>    </tr></thead><tbody>\n",
       "                <tr>\n",
       "                                <td id=\"T_107572a8_dde4_11eb_b455_acde48001122row0_col0\" class=\"data row0 col0\" ><10</td>\n",
       "                        <td id=\"T_107572a8_dde4_11eb_b455_acde48001122row0_col1\" class=\"data row0 col1\" >17</td>\n",
       "                        <td id=\"T_107572a8_dde4_11eb_b455_acde48001122row0_col2\" class=\"data row0 col2\" >2.95%</td>\n",
       "            </tr>\n",
       "            <tr>\n",
       "                                <td id=\"T_107572a8_dde4_11eb_b455_acde48001122row1_col0\" class=\"data row1 col0\" >10-14</td>\n",
       "                        <td id=\"T_107572a8_dde4_11eb_b455_acde48001122row1_col1\" class=\"data row1 col1\" >22</td>\n",
       "                        <td id=\"T_107572a8_dde4_11eb_b455_acde48001122row1_col2\" class=\"data row1 col2\" >3.82%</td>\n",
       "            </tr>\n",
       "            <tr>\n",
       "                                <td id=\"T_107572a8_dde4_11eb_b455_acde48001122row2_col0\" class=\"data row2 col0\" >15-19</td>\n",
       "                        <td id=\"T_107572a8_dde4_11eb_b455_acde48001122row2_col1\" class=\"data row2 col1\" >107</td>\n",
       "                        <td id=\"T_107572a8_dde4_11eb_b455_acde48001122row2_col2\" class=\"data row2 col2\" >18.58%</td>\n",
       "            </tr>\n",
       "            <tr>\n",
       "                                <td id=\"T_107572a8_dde4_11eb_b455_acde48001122row3_col0\" class=\"data row3 col0\" >20-24</td>\n",
       "                        <td id=\"T_107572a8_dde4_11eb_b455_acde48001122row3_col1\" class=\"data row3 col1\" >258</td>\n",
       "                        <td id=\"T_107572a8_dde4_11eb_b455_acde48001122row3_col2\" class=\"data row3 col2\" >44.79%</td>\n",
       "            </tr>\n",
       "            <tr>\n",
       "                                <td id=\"T_107572a8_dde4_11eb_b455_acde48001122row4_col0\" class=\"data row4 col0\" >25-29</td>\n",
       "                        <td id=\"T_107572a8_dde4_11eb_b455_acde48001122row4_col1\" class=\"data row4 col1\" >77</td>\n",
       "                        <td id=\"T_107572a8_dde4_11eb_b455_acde48001122row4_col2\" class=\"data row4 col2\" >13.37%</td>\n",
       "            </tr>\n",
       "            <tr>\n",
       "                                <td id=\"T_107572a8_dde4_11eb_b455_acde48001122row5_col0\" class=\"data row5 col0\" >30-34</td>\n",
       "                        <td id=\"T_107572a8_dde4_11eb_b455_acde48001122row5_col1\" class=\"data row5 col1\" >52</td>\n",
       "                        <td id=\"T_107572a8_dde4_11eb_b455_acde48001122row5_col2\" class=\"data row5 col2\" >9.03%</td>\n",
       "            </tr>\n",
       "            <tr>\n",
       "                                <td id=\"T_107572a8_dde4_11eb_b455_acde48001122row6_col0\" class=\"data row6 col0\" >35-39</td>\n",
       "                        <td id=\"T_107572a8_dde4_11eb_b455_acde48001122row6_col1\" class=\"data row6 col1\" >31</td>\n",
       "                        <td id=\"T_107572a8_dde4_11eb_b455_acde48001122row6_col2\" class=\"data row6 col2\" >5.38%</td>\n",
       "            </tr>\n",
       "            <tr>\n",
       "                                <td id=\"T_107572a8_dde4_11eb_b455_acde48001122row7_col0\" class=\"data row7 col0\" >40+</td>\n",
       "                        <td id=\"T_107572a8_dde4_11eb_b455_acde48001122row7_col1\" class=\"data row7 col1\" >12</td>\n",
       "                        <td id=\"T_107572a8_dde4_11eb_b455_acde48001122row7_col2\" class=\"data row7 col2\" >2.08%</td>\n",
       "            </tr>\n",
       "    </tbody></table>"
      ],
      "text/plain": [
       "<pandas.io.formats.style.Styler at 0x7f95d04a8d50>"
      ]
     },
     "execution_count": 129,
     "metadata": {},
     "output_type": "execute_result"
    }
   ],
   "source": [
    "# Age Demographics\n",
    "age_bins = [0,9,14,19,24,29,34,39,200]\n",
    "age_labels = ['<10','10-14','15-19','20-24','25-29','30-34','35-39','40+']\n",
    "age_sorted = pd.cut(no_dups['Age'],age_bins, labels=age_labels).value_counts()\n",
    "percent_age = 100*age_sorted[age_labels]/total_num_players\n",
    "age_summary = pd.DataFrame({\"\":age_labels,\n",
    "                          \"Total Count\":list(age_sorted[age_labels]),\n",
    "                          \"Percentage of Players\":list(percent_age)\n",
    "                           })\n",
    "age_summary = age_summary.style.format({\"Percentage of Players\":'{0:,.2f}%'}).hide_index()\n",
    "age_summary"
   ]
  },
  {
   "cell_type": "code",
   "execution_count": 177,
   "metadata": {},
   "outputs": [
    {
     "data": {
      "text/html": [
       "<style  type=\"text/css\" >\n",
       "</style><table id=\"T_71c02ac4_dde6_11eb_b455_acde48001122\" ><thead>    <tr>        <th class=\"blank level0\" ></th>        <th class=\"col_heading level0 col0\" >Purchase Count</th>        <th class=\"col_heading level0 col1\" >Average Purchase Price</th>        <th class=\"col_heading level0 col2\" >Total Purchase Value</th>        <th class=\"col_heading level0 col3\" >Avg Total Purchase per Person</th>    </tr>    <tr>        <th class=\"index_name level0\" >Age Range</th>        <th class=\"blank\" ></th>        <th class=\"blank\" ></th>        <th class=\"blank\" ></th>        <th class=\"blank\" ></th>    </tr></thead><tbody>\n",
       "                <tr>\n",
       "                        <th id=\"T_71c02ac4_dde6_11eb_b455_acde48001122level0_row0\" class=\"row_heading level0 row0\" ><10</th>\n",
       "                        <td id=\"T_71c02ac4_dde6_11eb_b455_acde48001122row0_col0\" class=\"data row0 col0\" >23</td>\n",
       "                        <td id=\"T_71c02ac4_dde6_11eb_b455_acde48001122row0_col1\" class=\"data row0 col1\" >$3.35</td>\n",
       "                        <td id=\"T_71c02ac4_dde6_11eb_b455_acde48001122row0_col2\" class=\"data row0 col2\" >$77.13</td>\n",
       "                        <td id=\"T_71c02ac4_dde6_11eb_b455_acde48001122row0_col3\" class=\"data row0 col3\" >$4.54</td>\n",
       "            </tr>\n",
       "            <tr>\n",
       "                        <th id=\"T_71c02ac4_dde6_11eb_b455_acde48001122level0_row1\" class=\"row_heading level0 row1\" >10-14</th>\n",
       "                        <td id=\"T_71c02ac4_dde6_11eb_b455_acde48001122row1_col0\" class=\"data row1 col0\" >28</td>\n",
       "                        <td id=\"T_71c02ac4_dde6_11eb_b455_acde48001122row1_col1\" class=\"data row1 col1\" >$2.96</td>\n",
       "                        <td id=\"T_71c02ac4_dde6_11eb_b455_acde48001122row1_col2\" class=\"data row1 col2\" >$82.78</td>\n",
       "                        <td id=\"T_71c02ac4_dde6_11eb_b455_acde48001122row1_col3\" class=\"data row1 col3\" >$3.76</td>\n",
       "            </tr>\n",
       "            <tr>\n",
       "                        <th id=\"T_71c02ac4_dde6_11eb_b455_acde48001122level0_row2\" class=\"row_heading level0 row2\" >15-19</th>\n",
       "                        <td id=\"T_71c02ac4_dde6_11eb_b455_acde48001122row2_col0\" class=\"data row2 col0\" >136</td>\n",
       "                        <td id=\"T_71c02ac4_dde6_11eb_b455_acde48001122row2_col1\" class=\"data row2 col1\" >$3.04</td>\n",
       "                        <td id=\"T_71c02ac4_dde6_11eb_b455_acde48001122row2_col2\" class=\"data row2 col2\" >$412.89</td>\n",
       "                        <td id=\"T_71c02ac4_dde6_11eb_b455_acde48001122row2_col3\" class=\"data row2 col3\" >$3.86</td>\n",
       "            </tr>\n",
       "            <tr>\n",
       "                        <th id=\"T_71c02ac4_dde6_11eb_b455_acde48001122level0_row3\" class=\"row_heading level0 row3\" >20-24</th>\n",
       "                        <td id=\"T_71c02ac4_dde6_11eb_b455_acde48001122row3_col0\" class=\"data row3 col0\" >365</td>\n",
       "                        <td id=\"T_71c02ac4_dde6_11eb_b455_acde48001122row3_col1\" class=\"data row3 col1\" >$3.05</td>\n",
       "                        <td id=\"T_71c02ac4_dde6_11eb_b455_acde48001122row3_col2\" class=\"data row3 col2\" >$1,114.06</td>\n",
       "                        <td id=\"T_71c02ac4_dde6_11eb_b455_acde48001122row3_col3\" class=\"data row3 col3\" >$4.32</td>\n",
       "            </tr>\n",
       "            <tr>\n",
       "                        <th id=\"T_71c02ac4_dde6_11eb_b455_acde48001122level0_row4\" class=\"row_heading level0 row4\" >25-29</th>\n",
       "                        <td id=\"T_71c02ac4_dde6_11eb_b455_acde48001122row4_col0\" class=\"data row4 col0\" >101</td>\n",
       "                        <td id=\"T_71c02ac4_dde6_11eb_b455_acde48001122row4_col1\" class=\"data row4 col1\" >$2.90</td>\n",
       "                        <td id=\"T_71c02ac4_dde6_11eb_b455_acde48001122row4_col2\" class=\"data row4 col2\" >$293.00</td>\n",
       "                        <td id=\"T_71c02ac4_dde6_11eb_b455_acde48001122row4_col3\" class=\"data row4 col3\" >$3.81</td>\n",
       "            </tr>\n",
       "            <tr>\n",
       "                        <th id=\"T_71c02ac4_dde6_11eb_b455_acde48001122level0_row5\" class=\"row_heading level0 row5\" >30-34</th>\n",
       "                        <td id=\"T_71c02ac4_dde6_11eb_b455_acde48001122row5_col0\" class=\"data row5 col0\" >73</td>\n",
       "                        <td id=\"T_71c02ac4_dde6_11eb_b455_acde48001122row5_col1\" class=\"data row5 col1\" >$2.93</td>\n",
       "                        <td id=\"T_71c02ac4_dde6_11eb_b455_acde48001122row5_col2\" class=\"data row5 col2\" >$214.00</td>\n",
       "                        <td id=\"T_71c02ac4_dde6_11eb_b455_acde48001122row5_col3\" class=\"data row5 col3\" >$4.12</td>\n",
       "            </tr>\n",
       "            <tr>\n",
       "                        <th id=\"T_71c02ac4_dde6_11eb_b455_acde48001122level0_row6\" class=\"row_heading level0 row6\" >35-39</th>\n",
       "                        <td id=\"T_71c02ac4_dde6_11eb_b455_acde48001122row6_col0\" class=\"data row6 col0\" >41</td>\n",
       "                        <td id=\"T_71c02ac4_dde6_11eb_b455_acde48001122row6_col1\" class=\"data row6 col1\" >$3.60</td>\n",
       "                        <td id=\"T_71c02ac4_dde6_11eb_b455_acde48001122row6_col2\" class=\"data row6 col2\" >$147.67</td>\n",
       "                        <td id=\"T_71c02ac4_dde6_11eb_b455_acde48001122row6_col3\" class=\"data row6 col3\" >$4.76</td>\n",
       "            </tr>\n",
       "            <tr>\n",
       "                        <th id=\"T_71c02ac4_dde6_11eb_b455_acde48001122level0_row7\" class=\"row_heading level0 row7\" >40+</th>\n",
       "                        <td id=\"T_71c02ac4_dde6_11eb_b455_acde48001122row7_col0\" class=\"data row7 col0\" >13</td>\n",
       "                        <td id=\"T_71c02ac4_dde6_11eb_b455_acde48001122row7_col1\" class=\"data row7 col1\" >$2.94</td>\n",
       "                        <td id=\"T_71c02ac4_dde6_11eb_b455_acde48001122row7_col2\" class=\"data row7 col2\" >$38.24</td>\n",
       "                        <td id=\"T_71c02ac4_dde6_11eb_b455_acde48001122row7_col3\" class=\"data row7 col3\" >$3.19</td>\n",
       "            </tr>\n",
       "    </tbody></table>"
      ],
      "text/plain": [
       "<pandas.io.formats.style.Styler at 0x7f95d0547050>"
      ]
     },
     "execution_count": 177,
     "metadata": {},
     "output_type": "execute_result"
    }
   ],
   "source": [
    "# Purchasing Analysis (Age)\n",
    "age_analysis = purchase_data\n",
    "age_analysis = age_analysis.drop(columns=[\"SN\",\"Gender\",\"Item ID\",\"Item Name\",\"Purchase ID\"])\n",
    "age_analysis[\"Age Range\"] = pd.cut(purchase_data['Age'],age_bins, labels=age_labels)\n",
    "age_sorts = age_analyis.groupby(\"Age Range\")\n",
    "purchase_count_age = age_sorts[\"Age\"].count()\n",
    "avg_purch_price_age = age_sorts[\"Price\"].mean()\n",
    "total_purch_val_age = age_sorts[\"Price\"].sum()\n",
    "avg_tot_purch_per_person_age = total_purch_val_age / age_sorted[age_labels]\n",
    "age_purchasing_df = pd.DataFrame({'Purchase Count':purchase_count_age,\n",
    "                                  'Average Purchase Price':avg_purch_price_age,\n",
    "                                  'Total Purchase Value':total_purch_val_age,\n",
    "                                  'Avg Total Purchase per Person':avg_tot_purch_per_person_age})\n",
    "age_purchasing_df = age_purchasing_df.style.format({\"Average Purchase Price\":'${0:,.2f}',\n",
    "                            \"Total Purchase Value\":'${0:,.2f}',\n",
    "                            \"Avg Total Purchase per Person\":'${0:,.2f}'})\n",
    "age_purchasing_df"
   ]
  },
  {
   "cell_type": "code",
   "execution_count": null,
   "metadata": {},
   "outputs": [],
   "source": []
  },
  {
   "cell_type": "code",
   "execution_count": null,
   "metadata": {},
   "outputs": [],
   "source": []
  },
  {
   "cell_type": "code",
   "execution_count": null,
   "metadata": {},
   "outputs": [],
   "source": []
  }
 ],
 "metadata": {
  "kernelspec": {
   "display_name": "Python 3",
   "language": "python",
   "name": "python3"
  },
  "language_info": {
   "codemirror_mode": {
    "name": "ipython",
    "version": 3
   },
   "file_extension": ".py",
   "mimetype": "text/x-python",
   "name": "python",
   "nbconvert_exporter": "python",
   "pygments_lexer": "ipython3",
   "version": "3.7.6"
  }
 },
 "nbformat": 4,
 "nbformat_minor": 4
}
