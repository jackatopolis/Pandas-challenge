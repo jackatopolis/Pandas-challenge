{
 "cells": [
  {
   "cell_type": "code",
   "execution_count": 13,
   "metadata": {},
   "outputs": [],
   "source": [
    "# Heroes of Pymoli\n",
    "# By: Jack Cohen\n",
    "\n",
    "# Import Dependencies and Setup\n",
    "import pandas as pd\n",
    "\n",
    "# File to Load\n",
    "file = 'Resources/purchase_data.csv'\n",
    "\n",
    "# Read Purchasing File and store into Pandas data frame\n",
    "purchase_data = pd.read_csv(file)"
   ]
  },
  {
   "cell_type": "code",
   "execution_count": 14,
   "metadata": {},
   "outputs": [
    {
     "name": "stdout",
     "output_type": "stream",
     "text": [
      "There are 576 total players.\n"
     ]
    },
    {
     "data": {
      "text/html": [
       "<div>\n",
       "<style scoped>\n",
       "    .dataframe tbody tr th:only-of-type {\n",
       "        vertical-align: middle;\n",
       "    }\n",
       "\n",
       "    .dataframe tbody tr th {\n",
       "        vertical-align: top;\n",
       "    }\n",
       "\n",
       "    .dataframe thead th {\n",
       "        text-align: right;\n",
       "    }\n",
       "</style>\n",
       "<table border=\"1\" class=\"dataframe\">\n",
       "  <thead>\n",
       "    <tr style=\"text-align: right;\">\n",
       "      <th></th>\n",
       "      <th>Total Players</th>\n",
       "    </tr>\n",
       "  </thead>\n",
       "  <tbody>\n",
       "    <tr>\n",
       "      <th>0</th>\n",
       "      <td>576</td>\n",
       "    </tr>\n",
       "  </tbody>\n",
       "</table>\n",
       "</div>"
      ],
      "text/plain": [
       "   Total Players\n",
       "0            576"
      ]
     },
     "execution_count": 14,
     "metadata": {},
     "output_type": "execute_result"
    }
   ],
   "source": [
    "# Player Count\n",
    "player_list = purchase_data.SN.unique()\n",
    "total_num_players = len(player_list)\n",
    "print(f\"There are {total_num_players} total players.\")\n",
    "player = pd.DataFrame([{'Total Players':total_num_players}])\n",
    "player"
   ]
  },
  {
   "cell_type": "code",
   "execution_count": 3,
   "metadata": {},
   "outputs": [
    {
     "data": {
      "text/html": [
       "<style  type=\"text/css\" >\n",
       "</style><table id=\"T_1a579704_de04_11eb_a1e7_acde48001122\" ><thead>    <tr>        <th class=\"col_heading level0 col0\" > </th>        <th class=\"col_heading level0 col1\" >Number of Unique Items</th>        <th class=\"col_heading level0 col2\" >Average Price ($)</th>        <th class=\"col_heading level0 col3\" >Number of Purchases</th>        <th class=\"col_heading level0 col4\" >Total Revenue ($)</th>    </tr></thead><tbody>\n",
       "                <tr>\n",
       "                                <td id=\"T_1a579704_de04_11eb_a1e7_acde48001122row0_col0\" class=\"data row0 col0\" >Value</td>\n",
       "                        <td id=\"T_1a579704_de04_11eb_a1e7_acde48001122row0_col1\" class=\"data row0 col1\" >179</td>\n",
       "                        <td id=\"T_1a579704_de04_11eb_a1e7_acde48001122row0_col2\" class=\"data row0 col2\" >$3.05</td>\n",
       "                        <td id=\"T_1a579704_de04_11eb_a1e7_acde48001122row0_col3\" class=\"data row0 col3\" >780</td>\n",
       "                        <td id=\"T_1a579704_de04_11eb_a1e7_acde48001122row0_col4\" class=\"data row0 col4\" >$2,379.77</td>\n",
       "            </tr>\n",
       "    </tbody></table>"
      ],
      "text/plain": [
       "<pandas.io.formats.style.Styler at 0x7fc6884f2d50>"
      ]
     },
     "execution_count": 3,
     "metadata": {},
     "output_type": "execute_result"
    }
   ],
   "source": [
    "# Purchasing Analysis\n",
    "num_unique_items = purchase_data[\"Item ID\"].value_counts().count()\n",
    "genders = purchase_data.Gender.unique()\n",
    "avg_price = round(purchase_data[\"Price\"].mean(),2)\n",
    "num_purchases = purchase_data[\"SN\"].count()\n",
    "total_rev = purchase_data[\"Price\"].sum()\n",
    "data_summary = pd.DataFrame([{\" \":\"Value\",\"Number of Unique Items\":num_unique_items,\n",
    "                \"Average Price ($)\":avg_price,\n",
    "                \"Number of Purchases\":num_purchases,\n",
    "                \"Total Revenue ($)\":total_rev}])\n",
    "data_summary.style.format({\"Average Price ($)\":'${0:,.2f}',\"Total Revenue ($)\":'${0:,.2f}'}).hide_index()"
   ]
  },
  {
   "cell_type": "code",
   "execution_count": 4,
   "metadata": {},
   "outputs": [],
   "source": [
    "# Gender Demographics\n",
    "no_dups = purchase_data.drop_duplicates(subset=[\"SN\"])\n",
    "SN_Gender = no_dups[[\"SN\",\"Gender\"]]\n",
    "SN_Gender = SN_Gender.groupby(\"Gender\").count()\n",
    "percent_gender = [100*SN_Gender.iloc[:,0][0]/total_num_players,\n",
    "                  100*SN_Gender.iloc[:,0][1]/total_num_players,\n",
    "                  100*SN_Gender.iloc[:,0][2]/total_num_players]\n",
    "SN_Gender.insert(1,\"Percentage of Players\",percent_gender)\n",
    "SN_Gender.rename(columns={\"SN\":\"Total Count\"},inplace=True)"
   ]
  },
  {
   "cell_type": "code",
   "execution_count": 5,
   "metadata": {},
   "outputs": [
    {
     "data": {
      "text/html": [
       "<style  type=\"text/css\" >\n",
       "</style><table id=\"T_1aa5069c_de04_11eb_a1e7_acde48001122\" ><thead>    <tr>        <th class=\"blank level0\" ></th>        <th class=\"col_heading level0 col0\" >Total Count</th>        <th class=\"col_heading level0 col1\" >Percentage of Players</th>    </tr>    <tr>        <th class=\"index_name level0\" >Gender</th>        <th class=\"blank\" ></th>        <th class=\"blank\" ></th>    </tr></thead><tbody>\n",
       "                <tr>\n",
       "                        <th id=\"T_1aa5069c_de04_11eb_a1e7_acde48001122level0_row0\" class=\"row_heading level0 row0\" >Female</th>\n",
       "                        <td id=\"T_1aa5069c_de04_11eb_a1e7_acde48001122row0_col0\" class=\"data row0 col0\" >81</td>\n",
       "                        <td id=\"T_1aa5069c_de04_11eb_a1e7_acde48001122row0_col1\" class=\"data row0 col1\" >14.06%</td>\n",
       "            </tr>\n",
       "            <tr>\n",
       "                        <th id=\"T_1aa5069c_de04_11eb_a1e7_acde48001122level0_row1\" class=\"row_heading level0 row1\" >Male</th>\n",
       "                        <td id=\"T_1aa5069c_de04_11eb_a1e7_acde48001122row1_col0\" class=\"data row1 col0\" >484</td>\n",
       "                        <td id=\"T_1aa5069c_de04_11eb_a1e7_acde48001122row1_col1\" class=\"data row1 col1\" >84.03%</td>\n",
       "            </tr>\n",
       "            <tr>\n",
       "                        <th id=\"T_1aa5069c_de04_11eb_a1e7_acde48001122level0_row2\" class=\"row_heading level0 row2\" >Other / Non-Disclosed</th>\n",
       "                        <td id=\"T_1aa5069c_de04_11eb_a1e7_acde48001122row2_col0\" class=\"data row2 col0\" >11</td>\n",
       "                        <td id=\"T_1aa5069c_de04_11eb_a1e7_acde48001122row2_col1\" class=\"data row2 col1\" >1.91%</td>\n",
       "            </tr>\n",
       "    </tbody></table>"
      ],
      "text/plain": [
       "<pandas.io.formats.style.Styler at 0x7fc6a8249a90>"
      ]
     },
     "execution_count": 5,
     "metadata": {},
     "output_type": "execute_result"
    }
   ],
   "source": [
    "SN_Gender.style.format({\"Percentage of Players\":\"{0:,.2f}%\"})"
   ]
  },
  {
   "cell_type": "code",
   "execution_count": 6,
   "metadata": {},
   "outputs": [],
   "source": [
    "# Purchasing Analysis (Gender)\n",
    "all_genders = purchase_data.Gender.unique()\n",
    "gender_df = purchase_data.groupby(\"Gender\")\n",
    "purchase_count = gender_df['Gender'].count()\n",
    "average_price = gender_df.mean()[\"Price\"]\n",
    "total_purchase_val = purchase_count*average_price\n",
    "avg_tot_purchase_per_person = total_purchase_val/SN_Gender[\"Total Count\"]"
   ]
  },
  {
   "cell_type": "code",
   "execution_count": 7,
   "metadata": {},
   "outputs": [
    {
     "data": {
      "text/html": [
       "<style  type=\"text/css\" >\n",
       "</style><table id=\"T_1b12b61a_de04_11eb_a1e7_acde48001122\" ><thead>    <tr>        <th class=\"blank level0\" ></th>        <th class=\"col_heading level0 col0\" >Purchase Count</th>        <th class=\"col_heading level0 col1\" >Average Purchase Price</th>        <th class=\"col_heading level0 col2\" >Total Purchase Value</th>        <th class=\"col_heading level0 col3\" >Avg Total Purchase per Person</th>    </tr>    <tr>        <th class=\"index_name level0\" >Gender</th>        <th class=\"blank\" ></th>        <th class=\"blank\" ></th>        <th class=\"blank\" ></th>        <th class=\"blank\" ></th>    </tr></thead><tbody>\n",
       "                <tr>\n",
       "                        <th id=\"T_1b12b61a_de04_11eb_a1e7_acde48001122level0_row0\" class=\"row_heading level0 row0\" >Female</th>\n",
       "                        <td id=\"T_1b12b61a_de04_11eb_a1e7_acde48001122row0_col0\" class=\"data row0 col0\" >113</td>\n",
       "                        <td id=\"T_1b12b61a_de04_11eb_a1e7_acde48001122row0_col1\" class=\"data row0 col1\" >$3.20</td>\n",
       "                        <td id=\"T_1b12b61a_de04_11eb_a1e7_acde48001122row0_col2\" class=\"data row0 col2\" >$361.94</td>\n",
       "                        <td id=\"T_1b12b61a_de04_11eb_a1e7_acde48001122row0_col3\" class=\"data row0 col3\" >$4.47</td>\n",
       "            </tr>\n",
       "            <tr>\n",
       "                        <th id=\"T_1b12b61a_de04_11eb_a1e7_acde48001122level0_row1\" class=\"row_heading level0 row1\" >Male</th>\n",
       "                        <td id=\"T_1b12b61a_de04_11eb_a1e7_acde48001122row1_col0\" class=\"data row1 col0\" >652</td>\n",
       "                        <td id=\"T_1b12b61a_de04_11eb_a1e7_acde48001122row1_col1\" class=\"data row1 col1\" >$3.02</td>\n",
       "                        <td id=\"T_1b12b61a_de04_11eb_a1e7_acde48001122row1_col2\" class=\"data row1 col2\" >$1,967.64</td>\n",
       "                        <td id=\"T_1b12b61a_de04_11eb_a1e7_acde48001122row1_col3\" class=\"data row1 col3\" >$4.07</td>\n",
       "            </tr>\n",
       "            <tr>\n",
       "                        <th id=\"T_1b12b61a_de04_11eb_a1e7_acde48001122level0_row2\" class=\"row_heading level0 row2\" >Other / Non-Disclosed</th>\n",
       "                        <td id=\"T_1b12b61a_de04_11eb_a1e7_acde48001122row2_col0\" class=\"data row2 col0\" >15</td>\n",
       "                        <td id=\"T_1b12b61a_de04_11eb_a1e7_acde48001122row2_col1\" class=\"data row2 col1\" >$3.35</td>\n",
       "                        <td id=\"T_1b12b61a_de04_11eb_a1e7_acde48001122row2_col2\" class=\"data row2 col2\" >$50.19</td>\n",
       "                        <td id=\"T_1b12b61a_de04_11eb_a1e7_acde48001122row2_col3\" class=\"data row2 col3\" >$4.56</td>\n",
       "            </tr>\n",
       "    </tbody></table>"
      ],
      "text/plain": [
       "<pandas.io.formats.style.Styler at 0x7fc6885b6f10>"
      ]
     },
     "execution_count": 7,
     "metadata": {},
     "output_type": "execute_result"
    }
   ],
   "source": [
    "gender_summary = pd.DataFrame({\n",
    "                               \"Purchase Count\":purchase_count,\n",
    "                               \"Average Purchase Price\":list(average_price),\n",
    "                               \"Total Purchase Value\":list(total_purchase_val),\n",
    "                               \"Avg Total Purchase per Person\":list(avg_tot_purchase_per_person)\n",
    "                              })\n",
    "gender_summary = gender_summary.style.format({\"Average Purchase Price\":'${0:,.2f}',\n",
    "                            \"Total Purchase Value\":'${0:,.2f}',\n",
    "                            \"Avg Total Purchase per Person\":'${0:,.2f}'})\n",
    "gender_summary"
   ]
  },
  {
   "cell_type": "code",
   "execution_count": 8,
   "metadata": {},
   "outputs": [
    {
     "data": {
      "text/html": [
       "<style  type=\"text/css\" >\n",
       "</style><table id=\"T_1b577912_de04_11eb_a1e7_acde48001122\" ><thead>    <tr>        <th class=\"col_heading level0 col0\" ></th>        <th class=\"col_heading level0 col1\" >Total Count</th>        <th class=\"col_heading level0 col2\" >Percentage of Players</th>    </tr></thead><tbody>\n",
       "                <tr>\n",
       "                                <td id=\"T_1b577912_de04_11eb_a1e7_acde48001122row0_col0\" class=\"data row0 col0\" ><10</td>\n",
       "                        <td id=\"T_1b577912_de04_11eb_a1e7_acde48001122row0_col1\" class=\"data row0 col1\" >17</td>\n",
       "                        <td id=\"T_1b577912_de04_11eb_a1e7_acde48001122row0_col2\" class=\"data row0 col2\" >2.95%</td>\n",
       "            </tr>\n",
       "            <tr>\n",
       "                                <td id=\"T_1b577912_de04_11eb_a1e7_acde48001122row1_col0\" class=\"data row1 col0\" >10-14</td>\n",
       "                        <td id=\"T_1b577912_de04_11eb_a1e7_acde48001122row1_col1\" class=\"data row1 col1\" >22</td>\n",
       "                        <td id=\"T_1b577912_de04_11eb_a1e7_acde48001122row1_col2\" class=\"data row1 col2\" >3.82%</td>\n",
       "            </tr>\n",
       "            <tr>\n",
       "                                <td id=\"T_1b577912_de04_11eb_a1e7_acde48001122row2_col0\" class=\"data row2 col0\" >15-19</td>\n",
       "                        <td id=\"T_1b577912_de04_11eb_a1e7_acde48001122row2_col1\" class=\"data row2 col1\" >107</td>\n",
       "                        <td id=\"T_1b577912_de04_11eb_a1e7_acde48001122row2_col2\" class=\"data row2 col2\" >18.58%</td>\n",
       "            </tr>\n",
       "            <tr>\n",
       "                                <td id=\"T_1b577912_de04_11eb_a1e7_acde48001122row3_col0\" class=\"data row3 col0\" >20-24</td>\n",
       "                        <td id=\"T_1b577912_de04_11eb_a1e7_acde48001122row3_col1\" class=\"data row3 col1\" >258</td>\n",
       "                        <td id=\"T_1b577912_de04_11eb_a1e7_acde48001122row3_col2\" class=\"data row3 col2\" >44.79%</td>\n",
       "            </tr>\n",
       "            <tr>\n",
       "                                <td id=\"T_1b577912_de04_11eb_a1e7_acde48001122row4_col0\" class=\"data row4 col0\" >25-29</td>\n",
       "                        <td id=\"T_1b577912_de04_11eb_a1e7_acde48001122row4_col1\" class=\"data row4 col1\" >77</td>\n",
       "                        <td id=\"T_1b577912_de04_11eb_a1e7_acde48001122row4_col2\" class=\"data row4 col2\" >13.37%</td>\n",
       "            </tr>\n",
       "            <tr>\n",
       "                                <td id=\"T_1b577912_de04_11eb_a1e7_acde48001122row5_col0\" class=\"data row5 col0\" >30-34</td>\n",
       "                        <td id=\"T_1b577912_de04_11eb_a1e7_acde48001122row5_col1\" class=\"data row5 col1\" >52</td>\n",
       "                        <td id=\"T_1b577912_de04_11eb_a1e7_acde48001122row5_col2\" class=\"data row5 col2\" >9.03%</td>\n",
       "            </tr>\n",
       "            <tr>\n",
       "                                <td id=\"T_1b577912_de04_11eb_a1e7_acde48001122row6_col0\" class=\"data row6 col0\" >35-39</td>\n",
       "                        <td id=\"T_1b577912_de04_11eb_a1e7_acde48001122row6_col1\" class=\"data row6 col1\" >31</td>\n",
       "                        <td id=\"T_1b577912_de04_11eb_a1e7_acde48001122row6_col2\" class=\"data row6 col2\" >5.38%</td>\n",
       "            </tr>\n",
       "            <tr>\n",
       "                                <td id=\"T_1b577912_de04_11eb_a1e7_acde48001122row7_col0\" class=\"data row7 col0\" >40+</td>\n",
       "                        <td id=\"T_1b577912_de04_11eb_a1e7_acde48001122row7_col1\" class=\"data row7 col1\" >12</td>\n",
       "                        <td id=\"T_1b577912_de04_11eb_a1e7_acde48001122row7_col2\" class=\"data row7 col2\" >2.08%</td>\n",
       "            </tr>\n",
       "    </tbody></table>"
      ],
      "text/plain": [
       "<pandas.io.formats.style.Styler at 0x7fc6786ab5d0>"
      ]
     },
     "execution_count": 8,
     "metadata": {},
     "output_type": "execute_result"
    }
   ],
   "source": [
    "# Age Demographics\n",
    "age_bins = [0,9,14,19,24,29,34,39,200]\n",
    "age_labels = ['<10','10-14','15-19','20-24','25-29','30-34','35-39','40+']\n",
    "age_sorted = pd.cut(no_dups['Age'],age_bins, labels=age_labels).value_counts()\n",
    "percent_age = 100*age_sorted[age_labels]/total_num_players\n",
    "age_summary = pd.DataFrame({\"\":age_labels,\n",
    "                          \"Total Count\":list(age_sorted[age_labels]),\n",
    "                          \"Percentage of Players\":list(percent_age)\n",
    "                           })\n",
    "age_summary = age_summary.style.format({\"Percentage of Players\":'{0:,.2f}%'}).hide_index()\n",
    "age_summary"
   ]
  },
  {
   "cell_type": "code",
   "execution_count": 9,
   "metadata": {},
   "outputs": [
    {
     "data": {
      "text/html": [
       "<style  type=\"text/css\" >\n",
       "</style><table id=\"T_1ba0c69e_de04_11eb_a1e7_acde48001122\" ><thead>    <tr>        <th class=\"blank level0\" ></th>        <th class=\"col_heading level0 col0\" >Purchase Count</th>        <th class=\"col_heading level0 col1\" >Average Purchase Price</th>        <th class=\"col_heading level0 col2\" >Total Purchase Value</th>        <th class=\"col_heading level0 col3\" >Avg Total Purchase per Person</th>    </tr>    <tr>        <th class=\"index_name level0\" >Age Range</th>        <th class=\"blank\" ></th>        <th class=\"blank\" ></th>        <th class=\"blank\" ></th>        <th class=\"blank\" ></th>    </tr></thead><tbody>\n",
       "                <tr>\n",
       "                        <th id=\"T_1ba0c69e_de04_11eb_a1e7_acde48001122level0_row0\" class=\"row_heading level0 row0\" ><10</th>\n",
       "                        <td id=\"T_1ba0c69e_de04_11eb_a1e7_acde48001122row0_col0\" class=\"data row0 col0\" >23</td>\n",
       "                        <td id=\"T_1ba0c69e_de04_11eb_a1e7_acde48001122row0_col1\" class=\"data row0 col1\" >$3.35</td>\n",
       "                        <td id=\"T_1ba0c69e_de04_11eb_a1e7_acde48001122row0_col2\" class=\"data row0 col2\" >$77.13</td>\n",
       "                        <td id=\"T_1ba0c69e_de04_11eb_a1e7_acde48001122row0_col3\" class=\"data row0 col3\" >$4.54</td>\n",
       "            </tr>\n",
       "            <tr>\n",
       "                        <th id=\"T_1ba0c69e_de04_11eb_a1e7_acde48001122level0_row1\" class=\"row_heading level0 row1\" >10-14</th>\n",
       "                        <td id=\"T_1ba0c69e_de04_11eb_a1e7_acde48001122row1_col0\" class=\"data row1 col0\" >28</td>\n",
       "                        <td id=\"T_1ba0c69e_de04_11eb_a1e7_acde48001122row1_col1\" class=\"data row1 col1\" >$2.96</td>\n",
       "                        <td id=\"T_1ba0c69e_de04_11eb_a1e7_acde48001122row1_col2\" class=\"data row1 col2\" >$82.78</td>\n",
       "                        <td id=\"T_1ba0c69e_de04_11eb_a1e7_acde48001122row1_col3\" class=\"data row1 col3\" >$3.76</td>\n",
       "            </tr>\n",
       "            <tr>\n",
       "                        <th id=\"T_1ba0c69e_de04_11eb_a1e7_acde48001122level0_row2\" class=\"row_heading level0 row2\" >15-19</th>\n",
       "                        <td id=\"T_1ba0c69e_de04_11eb_a1e7_acde48001122row2_col0\" class=\"data row2 col0\" >136</td>\n",
       "                        <td id=\"T_1ba0c69e_de04_11eb_a1e7_acde48001122row2_col1\" class=\"data row2 col1\" >$3.04</td>\n",
       "                        <td id=\"T_1ba0c69e_de04_11eb_a1e7_acde48001122row2_col2\" class=\"data row2 col2\" >$412.89</td>\n",
       "                        <td id=\"T_1ba0c69e_de04_11eb_a1e7_acde48001122row2_col3\" class=\"data row2 col3\" >$3.86</td>\n",
       "            </tr>\n",
       "            <tr>\n",
       "                        <th id=\"T_1ba0c69e_de04_11eb_a1e7_acde48001122level0_row3\" class=\"row_heading level0 row3\" >20-24</th>\n",
       "                        <td id=\"T_1ba0c69e_de04_11eb_a1e7_acde48001122row3_col0\" class=\"data row3 col0\" >365</td>\n",
       "                        <td id=\"T_1ba0c69e_de04_11eb_a1e7_acde48001122row3_col1\" class=\"data row3 col1\" >$3.05</td>\n",
       "                        <td id=\"T_1ba0c69e_de04_11eb_a1e7_acde48001122row3_col2\" class=\"data row3 col2\" >$1,114.06</td>\n",
       "                        <td id=\"T_1ba0c69e_de04_11eb_a1e7_acde48001122row3_col3\" class=\"data row3 col3\" >$4.32</td>\n",
       "            </tr>\n",
       "            <tr>\n",
       "                        <th id=\"T_1ba0c69e_de04_11eb_a1e7_acde48001122level0_row4\" class=\"row_heading level0 row4\" >25-29</th>\n",
       "                        <td id=\"T_1ba0c69e_de04_11eb_a1e7_acde48001122row4_col0\" class=\"data row4 col0\" >101</td>\n",
       "                        <td id=\"T_1ba0c69e_de04_11eb_a1e7_acde48001122row4_col1\" class=\"data row4 col1\" >$2.90</td>\n",
       "                        <td id=\"T_1ba0c69e_de04_11eb_a1e7_acde48001122row4_col2\" class=\"data row4 col2\" >$293.00</td>\n",
       "                        <td id=\"T_1ba0c69e_de04_11eb_a1e7_acde48001122row4_col3\" class=\"data row4 col3\" >$3.81</td>\n",
       "            </tr>\n",
       "            <tr>\n",
       "                        <th id=\"T_1ba0c69e_de04_11eb_a1e7_acde48001122level0_row5\" class=\"row_heading level0 row5\" >30-34</th>\n",
       "                        <td id=\"T_1ba0c69e_de04_11eb_a1e7_acde48001122row5_col0\" class=\"data row5 col0\" >73</td>\n",
       "                        <td id=\"T_1ba0c69e_de04_11eb_a1e7_acde48001122row5_col1\" class=\"data row5 col1\" >$2.93</td>\n",
       "                        <td id=\"T_1ba0c69e_de04_11eb_a1e7_acde48001122row5_col2\" class=\"data row5 col2\" >$214.00</td>\n",
       "                        <td id=\"T_1ba0c69e_de04_11eb_a1e7_acde48001122row5_col3\" class=\"data row5 col3\" >$4.12</td>\n",
       "            </tr>\n",
       "            <tr>\n",
       "                        <th id=\"T_1ba0c69e_de04_11eb_a1e7_acde48001122level0_row6\" class=\"row_heading level0 row6\" >35-39</th>\n",
       "                        <td id=\"T_1ba0c69e_de04_11eb_a1e7_acde48001122row6_col0\" class=\"data row6 col0\" >41</td>\n",
       "                        <td id=\"T_1ba0c69e_de04_11eb_a1e7_acde48001122row6_col1\" class=\"data row6 col1\" >$3.60</td>\n",
       "                        <td id=\"T_1ba0c69e_de04_11eb_a1e7_acde48001122row6_col2\" class=\"data row6 col2\" >$147.67</td>\n",
       "                        <td id=\"T_1ba0c69e_de04_11eb_a1e7_acde48001122row6_col3\" class=\"data row6 col3\" >$4.76</td>\n",
       "            </tr>\n",
       "            <tr>\n",
       "                        <th id=\"T_1ba0c69e_de04_11eb_a1e7_acde48001122level0_row7\" class=\"row_heading level0 row7\" >40+</th>\n",
       "                        <td id=\"T_1ba0c69e_de04_11eb_a1e7_acde48001122row7_col0\" class=\"data row7 col0\" >13</td>\n",
       "                        <td id=\"T_1ba0c69e_de04_11eb_a1e7_acde48001122row7_col1\" class=\"data row7 col1\" >$2.94</td>\n",
       "                        <td id=\"T_1ba0c69e_de04_11eb_a1e7_acde48001122row7_col2\" class=\"data row7 col2\" >$38.24</td>\n",
       "                        <td id=\"T_1ba0c69e_de04_11eb_a1e7_acde48001122row7_col3\" class=\"data row7 col3\" >$3.19</td>\n",
       "            </tr>\n",
       "    </tbody></table>"
      ],
      "text/plain": [
       "<pandas.io.formats.style.Styler at 0x7fc678697a90>"
      ]
     },
     "execution_count": 9,
     "metadata": {},
     "output_type": "execute_result"
    }
   ],
   "source": [
    "# Purchasing Analysis (Age)\n",
    "age_analysis = purchase_data\n",
    "age_analysis = age_analysis.drop(columns=[\"SN\",\"Gender\",\"Item ID\",\"Item Name\",\"Purchase ID\"])\n",
    "age_analysis[\"Age Range\"] = pd.cut(purchase_data['Age'],age_bins, labels=age_labels)\n",
    "age_sorts = age_analysis.groupby(\"Age Range\")\n",
    "purchase_count_age = age_sorts[\"Age\"].count()\n",
    "avg_purch_price_age = age_sorts[\"Price\"].mean()\n",
    "total_purch_val_age = age_sorts[\"Price\"].sum()\n",
    "avg_tot_purch_per_person_age = total_purch_val_age / age_sorted[age_labels]\n",
    "age_purchasing_df = pd.DataFrame({'Purchase Count':purchase_count_age,\n",
    "                                  'Average Purchase Price':avg_purch_price_age,\n",
    "                                  'Total Purchase Value':total_purch_val_age,\n",
    "                                  'Avg Total Purchase per Person':avg_tot_purch_per_person_age})\n",
    "age_purchasing_df = age_purchasing_df.style.format({\"Average Purchase Price\":'${0:,.2f}',\n",
    "                            \"Total Purchase Value\":'${0:,.2f}',\n",
    "                            \"Avg Total Purchase per Person\":'${0:,.2f}'})\n",
    "\n",
    "age_purchasing_df\n"
   ]
  },
  {
   "cell_type": "code",
   "execution_count": 10,
   "metadata": {},
   "outputs": [
    {
     "data": {
      "text/html": [
       "<style  type=\"text/css\" >\n",
       "</style><table id=\"T_1bf7a37e_de04_11eb_a1e7_acde48001122\" ><thead>    <tr>        <th class=\"blank level0\" ></th>        <th class=\"col_heading level0 col0\" >Purchase Count</th>        <th class=\"col_heading level0 col1\" >Average Purchase Price</th>        <th class=\"col_heading level0 col2\" >Total Purchase Value</th>    </tr>    <tr>        <th class=\"index_name level0\" >SN</th>        <th class=\"blank\" ></th>        <th class=\"blank\" ></th>        <th class=\"blank\" ></th>    </tr></thead><tbody>\n",
       "                <tr>\n",
       "                        <th id=\"T_1bf7a37e_de04_11eb_a1e7_acde48001122level0_row0\" class=\"row_heading level0 row0\" >Lisosia93</th>\n",
       "                        <td id=\"T_1bf7a37e_de04_11eb_a1e7_acde48001122row0_col0\" class=\"data row0 col0\" >5</td>\n",
       "                        <td id=\"T_1bf7a37e_de04_11eb_a1e7_acde48001122row0_col1\" class=\"data row0 col1\" >$3.79</td>\n",
       "                        <td id=\"T_1bf7a37e_de04_11eb_a1e7_acde48001122row0_col2\" class=\"data row0 col2\" >$18.96</td>\n",
       "            </tr>\n",
       "            <tr>\n",
       "                        <th id=\"T_1bf7a37e_de04_11eb_a1e7_acde48001122level0_row1\" class=\"row_heading level0 row1\" >Idastidru52</th>\n",
       "                        <td id=\"T_1bf7a37e_de04_11eb_a1e7_acde48001122row1_col0\" class=\"data row1 col0\" >4</td>\n",
       "                        <td id=\"T_1bf7a37e_de04_11eb_a1e7_acde48001122row1_col1\" class=\"data row1 col1\" >$3.86</td>\n",
       "                        <td id=\"T_1bf7a37e_de04_11eb_a1e7_acde48001122row1_col2\" class=\"data row1 col2\" >$15.45</td>\n",
       "            </tr>\n",
       "            <tr>\n",
       "                        <th id=\"T_1bf7a37e_de04_11eb_a1e7_acde48001122level0_row2\" class=\"row_heading level0 row2\" >Chamjask73</th>\n",
       "                        <td id=\"T_1bf7a37e_de04_11eb_a1e7_acde48001122row2_col0\" class=\"data row2 col0\" >3</td>\n",
       "                        <td id=\"T_1bf7a37e_de04_11eb_a1e7_acde48001122row2_col1\" class=\"data row2 col1\" >$4.61</td>\n",
       "                        <td id=\"T_1bf7a37e_de04_11eb_a1e7_acde48001122row2_col2\" class=\"data row2 col2\" >$13.83</td>\n",
       "            </tr>\n",
       "            <tr>\n",
       "                        <th id=\"T_1bf7a37e_de04_11eb_a1e7_acde48001122level0_row3\" class=\"row_heading level0 row3\" >Iral74</th>\n",
       "                        <td id=\"T_1bf7a37e_de04_11eb_a1e7_acde48001122row3_col0\" class=\"data row3 col0\" >4</td>\n",
       "                        <td id=\"T_1bf7a37e_de04_11eb_a1e7_acde48001122row3_col1\" class=\"data row3 col1\" >$3.40</td>\n",
       "                        <td id=\"T_1bf7a37e_de04_11eb_a1e7_acde48001122row3_col2\" class=\"data row3 col2\" >$13.62</td>\n",
       "            </tr>\n",
       "            <tr>\n",
       "                        <th id=\"T_1bf7a37e_de04_11eb_a1e7_acde48001122level0_row4\" class=\"row_heading level0 row4\" >Iskadarya95</th>\n",
       "                        <td id=\"T_1bf7a37e_de04_11eb_a1e7_acde48001122row4_col0\" class=\"data row4 col0\" >3</td>\n",
       "                        <td id=\"T_1bf7a37e_de04_11eb_a1e7_acde48001122row4_col1\" class=\"data row4 col1\" >$4.37</td>\n",
       "                        <td id=\"T_1bf7a37e_de04_11eb_a1e7_acde48001122row4_col2\" class=\"data row4 col2\" >$13.10</td>\n",
       "            </tr>\n",
       "    </tbody></table>"
      ],
      "text/plain": [
       "<pandas.io.formats.style.Styler at 0x7fc698f7fa10>"
      ]
     },
     "execution_count": 10,
     "metadata": {},
     "output_type": "execute_result"
    }
   ],
   "source": [
    "# Top Spenders\n",
    "SN_sorted = purchase_data.groupby(\"SN\")\n",
    "SN_purch_count = SN_sorted[\"SN\"].count()\n",
    "SN_avg_pp = SN_sorted['Price'].mean()\n",
    "SN_tot_purch_vol = SN_sorted['Price'].sum()\n",
    "SN_summary_df = pd.DataFrame({'Purchase Count':SN_purch_count,\n",
    "                              'Average Purchase Price':SN_avg_pp,\n",
    "                              'Total Purchase Value':SN_tot_purch_vol})\n",
    "SN_summary_df = SN_summary_df.sort_values(by='Total Purchase Value',axis=0,ascending=False)\n",
    "SN_head = SN_summary_df.head()\n",
    "SN_head.style.format({'Average Purchase Price':'${0:,.2f}',\n",
    "                      'Total Purchase Value':'${0:,.2f}'})"
   ]
  },
  {
   "cell_type": "code",
   "execution_count": 11,
   "metadata": {},
   "outputs": [
    {
     "data": {
      "text/html": [
       "<style  type=\"text/css\" >\n",
       "</style><table id=\"T_1c51c98a_de04_11eb_a1e7_acde48001122\" ><thead>    <tr>        <th class=\"blank\" ></th>        <th class=\"blank level0\" ></th>        <th class=\"col_heading level0 col0\" >Purchase Count</th>        <th class=\"col_heading level0 col1\" >Item Price</th>        <th class=\"col_heading level0 col2\" >Total Purchase Value</th>    </tr>    <tr>        <th class=\"index_name level0\" >Item ID</th>        <th class=\"index_name level1\" >Item Name</th>        <th class=\"blank\" ></th>        <th class=\"blank\" ></th>        <th class=\"blank\" ></th>    </tr></thead><tbody>\n",
       "                <tr>\n",
       "                        <th id=\"T_1c51c98a_de04_11eb_a1e7_acde48001122level0_row0\" class=\"row_heading level0 row0\" >92</th>\n",
       "                        <th id=\"T_1c51c98a_de04_11eb_a1e7_acde48001122level1_row0\" class=\"row_heading level1 row0\" >Final Critic</th>\n",
       "                        <td id=\"T_1c51c98a_de04_11eb_a1e7_acde48001122row0_col0\" class=\"data row0 col0\" >13</td>\n",
       "                        <td id=\"T_1c51c98a_de04_11eb_a1e7_acde48001122row0_col1\" class=\"data row0 col1\" >$4.61</td>\n",
       "                        <td id=\"T_1c51c98a_de04_11eb_a1e7_acde48001122row0_col2\" class=\"data row0 col2\" >$59.99</td>\n",
       "            </tr>\n",
       "            <tr>\n",
       "                        <th id=\"T_1c51c98a_de04_11eb_a1e7_acde48001122level0_row1\" class=\"row_heading level0 row1\" >178</th>\n",
       "                        <th id=\"T_1c51c98a_de04_11eb_a1e7_acde48001122level1_row1\" class=\"row_heading level1 row1\" >Oathbreaker, Last Hope of the Breaking Storm</th>\n",
       "                        <td id=\"T_1c51c98a_de04_11eb_a1e7_acde48001122row1_col0\" class=\"data row1 col0\" >12</td>\n",
       "                        <td id=\"T_1c51c98a_de04_11eb_a1e7_acde48001122row1_col1\" class=\"data row1 col1\" >$4.23</td>\n",
       "                        <td id=\"T_1c51c98a_de04_11eb_a1e7_acde48001122row1_col2\" class=\"data row1 col2\" >$50.76</td>\n",
       "            </tr>\n",
       "            <tr>\n",
       "                        <th id=\"T_1c51c98a_de04_11eb_a1e7_acde48001122level0_row2\" class=\"row_heading level0 row2\" >145</th>\n",
       "                        <th id=\"T_1c51c98a_de04_11eb_a1e7_acde48001122level1_row2\" class=\"row_heading level1 row2\" >Fiery Glass Crusader</th>\n",
       "                        <td id=\"T_1c51c98a_de04_11eb_a1e7_acde48001122row2_col0\" class=\"data row2 col0\" >9</td>\n",
       "                        <td id=\"T_1c51c98a_de04_11eb_a1e7_acde48001122row2_col1\" class=\"data row2 col1\" >$4.58</td>\n",
       "                        <td id=\"T_1c51c98a_de04_11eb_a1e7_acde48001122row2_col2\" class=\"data row2 col2\" >$41.22</td>\n",
       "            </tr>\n",
       "            <tr>\n",
       "                        <th id=\"T_1c51c98a_de04_11eb_a1e7_acde48001122level0_row3\" class=\"row_heading level0 row3\" >132</th>\n",
       "                        <th id=\"T_1c51c98a_de04_11eb_a1e7_acde48001122level1_row3\" class=\"row_heading level1 row3\" >Persuasion</th>\n",
       "                        <td id=\"T_1c51c98a_de04_11eb_a1e7_acde48001122row3_col0\" class=\"data row3 col0\" >9</td>\n",
       "                        <td id=\"T_1c51c98a_de04_11eb_a1e7_acde48001122row3_col1\" class=\"data row3 col1\" >$3.22</td>\n",
       "                        <td id=\"T_1c51c98a_de04_11eb_a1e7_acde48001122row3_col2\" class=\"data row3 col2\" >$28.99</td>\n",
       "            </tr>\n",
       "            <tr>\n",
       "                        <th id=\"T_1c51c98a_de04_11eb_a1e7_acde48001122level0_row4\" class=\"row_heading level0 row4\" >108</th>\n",
       "                        <th id=\"T_1c51c98a_de04_11eb_a1e7_acde48001122level1_row4\" class=\"row_heading level1 row4\" >Extraction, Quickblade Of Trembling Hands</th>\n",
       "                        <td id=\"T_1c51c98a_de04_11eb_a1e7_acde48001122row4_col0\" class=\"data row4 col0\" >9</td>\n",
       "                        <td id=\"T_1c51c98a_de04_11eb_a1e7_acde48001122row4_col1\" class=\"data row4 col1\" >$3.53</td>\n",
       "                        <td id=\"T_1c51c98a_de04_11eb_a1e7_acde48001122row4_col2\" class=\"data row4 col2\" >$31.77</td>\n",
       "            </tr>\n",
       "    </tbody></table>"
      ],
      "text/plain": [
       "<pandas.io.formats.style.Styler at 0x7fc6885be790>"
      ]
     },
     "execution_count": 11,
     "metadata": {},
     "output_type": "execute_result"
    }
   ],
   "source": [
    "# Most Popular Items\n",
    "popular_items_df = purchase_data[['Item ID','Item Name','Price']]\n",
    "pop_main = popular_items_df.groupby(['Item ID','Item Name'])\n",
    "item_prices = popular_items_df.drop_duplicates(subset='Item Name')['Price']\n",
    "pop_purch_count = pop_main.count()['Price']\n",
    "pop_item_price = pop_main.mean()['Price']\n",
    "pop_total_val = pop_main.sum()['Price']\n",
    "pop_summary = pd.DataFrame({'Purchase Count':pop_purch_count,\n",
    "                           'Item Price':pop_item_price,\n",
    "                           'Total Purchase Value':pop_total_val})\n",
    "pop_summary_count_sorted = pop_summary.sort_values(by='Purchase Count',axis=0,ascending=False)\n",
    "pop_head_count = pop_summary_count_sorted.head()\n",
    "pop_head_count.style.format({'Item Price':'${0:,.2f}',\n",
    "                      'Total Purchase Value':'${0:,.2f}'})"
   ]
  },
  {
   "cell_type": "code",
   "execution_count": 12,
   "metadata": {},
   "outputs": [
    {
     "data": {
      "text/html": [
       "<style  type=\"text/css\" >\n",
       "</style><table id=\"T_1ca69faa_de04_11eb_a1e7_acde48001122\" ><thead>    <tr>        <th class=\"blank\" ></th>        <th class=\"blank level0\" ></th>        <th class=\"col_heading level0 col0\" >Purchase Count</th>        <th class=\"col_heading level0 col1\" >Item Price</th>        <th class=\"col_heading level0 col2\" >Total Purchase Value</th>    </tr>    <tr>        <th class=\"index_name level0\" >Item ID</th>        <th class=\"index_name level1\" >Item Name</th>        <th class=\"blank\" ></th>        <th class=\"blank\" ></th>        <th class=\"blank\" ></th>    </tr></thead><tbody>\n",
       "                <tr>\n",
       "                        <th id=\"T_1ca69faa_de04_11eb_a1e7_acde48001122level0_row0\" class=\"row_heading level0 row0\" >92</th>\n",
       "                        <th id=\"T_1ca69faa_de04_11eb_a1e7_acde48001122level1_row0\" class=\"row_heading level1 row0\" >Final Critic</th>\n",
       "                        <td id=\"T_1ca69faa_de04_11eb_a1e7_acde48001122row0_col0\" class=\"data row0 col0\" >13</td>\n",
       "                        <td id=\"T_1ca69faa_de04_11eb_a1e7_acde48001122row0_col1\" class=\"data row0 col1\" >$4.61</td>\n",
       "                        <td id=\"T_1ca69faa_de04_11eb_a1e7_acde48001122row0_col2\" class=\"data row0 col2\" >$59.99</td>\n",
       "            </tr>\n",
       "            <tr>\n",
       "                        <th id=\"T_1ca69faa_de04_11eb_a1e7_acde48001122level0_row1\" class=\"row_heading level0 row1\" >178</th>\n",
       "                        <th id=\"T_1ca69faa_de04_11eb_a1e7_acde48001122level1_row1\" class=\"row_heading level1 row1\" >Oathbreaker, Last Hope of the Breaking Storm</th>\n",
       "                        <td id=\"T_1ca69faa_de04_11eb_a1e7_acde48001122row1_col0\" class=\"data row1 col0\" >12</td>\n",
       "                        <td id=\"T_1ca69faa_de04_11eb_a1e7_acde48001122row1_col1\" class=\"data row1 col1\" >$4.23</td>\n",
       "                        <td id=\"T_1ca69faa_de04_11eb_a1e7_acde48001122row1_col2\" class=\"data row1 col2\" >$50.76</td>\n",
       "            </tr>\n",
       "            <tr>\n",
       "                        <th id=\"T_1ca69faa_de04_11eb_a1e7_acde48001122level0_row2\" class=\"row_heading level0 row2\" >82</th>\n",
       "                        <th id=\"T_1ca69faa_de04_11eb_a1e7_acde48001122level1_row2\" class=\"row_heading level1 row2\" >Nirvana</th>\n",
       "                        <td id=\"T_1ca69faa_de04_11eb_a1e7_acde48001122row2_col0\" class=\"data row2 col0\" >9</td>\n",
       "                        <td id=\"T_1ca69faa_de04_11eb_a1e7_acde48001122row2_col1\" class=\"data row2 col1\" >$4.90</td>\n",
       "                        <td id=\"T_1ca69faa_de04_11eb_a1e7_acde48001122row2_col2\" class=\"data row2 col2\" >$44.10</td>\n",
       "            </tr>\n",
       "            <tr>\n",
       "                        <th id=\"T_1ca69faa_de04_11eb_a1e7_acde48001122level0_row3\" class=\"row_heading level0 row3\" >145</th>\n",
       "                        <th id=\"T_1ca69faa_de04_11eb_a1e7_acde48001122level1_row3\" class=\"row_heading level1 row3\" >Fiery Glass Crusader</th>\n",
       "                        <td id=\"T_1ca69faa_de04_11eb_a1e7_acde48001122row3_col0\" class=\"data row3 col0\" >9</td>\n",
       "                        <td id=\"T_1ca69faa_de04_11eb_a1e7_acde48001122row3_col1\" class=\"data row3 col1\" >$4.58</td>\n",
       "                        <td id=\"T_1ca69faa_de04_11eb_a1e7_acde48001122row3_col2\" class=\"data row3 col2\" >$41.22</td>\n",
       "            </tr>\n",
       "            <tr>\n",
       "                        <th id=\"T_1ca69faa_de04_11eb_a1e7_acde48001122level0_row4\" class=\"row_heading level0 row4\" >103</th>\n",
       "                        <th id=\"T_1ca69faa_de04_11eb_a1e7_acde48001122level1_row4\" class=\"row_heading level1 row4\" >Singed Scalpel</th>\n",
       "                        <td id=\"T_1ca69faa_de04_11eb_a1e7_acde48001122row4_col0\" class=\"data row4 col0\" >8</td>\n",
       "                        <td id=\"T_1ca69faa_de04_11eb_a1e7_acde48001122row4_col1\" class=\"data row4 col1\" >$4.35</td>\n",
       "                        <td id=\"T_1ca69faa_de04_11eb_a1e7_acde48001122row4_col2\" class=\"data row4 col2\" >$34.80</td>\n",
       "            </tr>\n",
       "    </tbody></table>"
      ],
      "text/plain": [
       "<pandas.io.formats.style.Styler at 0x7fc6992dfad0>"
      ]
     },
     "execution_count": 12,
     "metadata": {},
     "output_type": "execute_result"
    }
   ],
   "source": [
    "# Most Profitable Items\n",
    "pop_summary_value_sorted = pop_summary.sort_values(by='Total Purchase Value',axis=0,ascending=False)\n",
    "pop_head_value = pop_summary_value_sorted.head()\n",
    "pop_head_value.style.format({'Item Price':'${0:,.2f}',\n",
    "                      'Total Purchase Value':'${0:,.2f}'})"
   ]
  },
  {
   "cell_type": "code",
   "execution_count": null,
   "metadata": {},
   "outputs": [],
   "source": []
  }
 ],
 "metadata": {
  "kernelspec": {
   "display_name": "Python 3",
   "language": "python",
   "name": "python3"
  },
  "language_info": {
   "codemirror_mode": {
    "name": "ipython",
    "version": 3
   },
   "file_extension": ".py",
   "mimetype": "text/x-python",
   "name": "python",
   "nbconvert_exporter": "python",
   "pygments_lexer": "ipython3",
   "version": "3.7.6"
  }
 },
 "nbformat": 4,
 "nbformat_minor": 4
}
